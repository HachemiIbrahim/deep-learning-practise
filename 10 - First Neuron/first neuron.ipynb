{
 "cells": [
  {
   "cell_type": "code",
   "execution_count": 1,
   "id": "a1ffea1d",
   "metadata": {},
   "outputs": [],
   "source": [
    "import torch "
   ]
  },
  {
   "cell_type": "markdown",
   "id": "30a2e7ef",
   "metadata": {},
   "source": [
    "## manual nueron"
   ]
  },
  {
   "cell_type": "code",
   "execution_count": 2,
   "id": "0061c5cf",
   "metadata": {},
   "outputs": [
    {
     "name": "stdout",
     "output_type": "stream",
     "text": [
      "212.0\n"
     ]
    }
   ],
   "source": [
    "b = 32\n",
    "w1 = 1.8\n",
    "\n",
    "X1 = 100\n",
    "\n",
    "y_pred = 1 * b + X1 * w1\n",
    "print(y_pred)"
   ]
  },
  {
   "cell_type": "markdown",
   "id": "234be9e7",
   "metadata": {},
   "source": [
    "## neuron"
   ]
  },
  {
   "cell_type": "code",
   "execution_count": 3,
   "id": "0469bb5e",
   "metadata": {},
   "outputs": [],
   "source": [
    "from torch import nn\n"
   ]
  },
  {
   "cell_type": "code",
   "execution_count": 4,
   "id": "a2927d2c",
   "metadata": {},
   "outputs": [
    {
     "name": "stdout",
     "output_type": "stream",
     "text": [
      "Parameter containing:\n",
      "tensor([32.], requires_grad=True)\n",
      "Parameter containing:\n",
      "tensor([[1.8000]], requires_grad=True)\n",
      "tensor([[ 50.0000],\n",
      "        [100.4000],\n",
      "        [212.0000],\n",
      "        [302.0000]], grad_fn=<AddmmBackward0>)\n"
     ]
    }
   ],
   "source": [
    "\n",
    "X = torch.tensor([\n",
    "    [10.0], \n",
    "    [38.0], \n",
    "    [100.0], \n",
    "    [150.0]\n",
    "])\n",
    "\n",
    "model = nn.Linear(1, 1)\n",
    "\n",
    "model.bias = nn.Parameter(\n",
    "    torch.tensor([32.0])\n",
    ")\n",
    "model.weight = nn.Parameter(\n",
    "    torch.tensor([[1.8]])\n",
    ")\n",
    "\n",
    "print(model.bias)\n",
    "print(model.weight)\n",
    "\n",
    "y_pred = model(X)\n",
    "print(y_pred)"
   ]
  },
  {
   "cell_type": "markdown",
   "id": "c9bc8960",
   "metadata": {},
   "source": [
    "## neuron dtype"
   ]
  },
  {
   "cell_type": "code",
   "execution_count": 5,
   "id": "0ea10b21",
   "metadata": {},
   "outputs": [
    {
     "name": "stdout",
     "output_type": "stream",
     "text": [
      "Parameter containing:\n",
      "tensor([32.], requires_grad=True)\n",
      "Parameter containing:\n",
      "tensor([[1.8000]], requires_grad=True)\n",
      "tensor([[ 50.0000],\n",
      "        [100.4000],\n",
      "        [212.0000],\n",
      "        [302.0000]], grad_fn=<AddmmBackward0>)\n"
     ]
    }
   ],
   "source": [
    "\n",
    "X = torch.tensor([\n",
    "    [10], \n",
    "    [38], \n",
    "    [100], \n",
    "    [150]\n",
    "], dtype=torch.float32)\n",
    "\n",
    "model = nn.Linear(1, 1)\n",
    "\n",
    "model.bias = nn.Parameter(\n",
    "    torch.tensor([32], dtype=torch.float32)\n",
    ")\n",
    "model.weight = nn.Parameter(\n",
    "    torch.tensor([[1.8]], dtype=torch.float32)\n",
    ")\n",
    "\n",
    "print(model.bias)\n",
    "print(model.weight)\n",
    "\n",
    "y_pred = model(X)\n",
    "print(y_pred)"
   ]
  },
  {
   "cell_type": "markdown",
   "id": "f15c7a86",
   "metadata": {},
   "source": [
    "## tensors"
   ]
  },
  {
   "cell_type": "code",
   "execution_count": 6,
   "id": "e7ac6298",
   "metadata": {},
   "outputs": [
    {
     "name": "stdout",
     "output_type": "stream",
     "text": [
      "tensor([ 50.0000, 100.4000, 212.0000, 302.0000])\n"
     ]
    }
   ],
   "source": [
    "\n",
    "b = torch.tensor(32)\n",
    "w1 = torch.tensor(1.8)\n",
    "\n",
    "X1 = torch.tensor([10, 38, 100, 150])\n",
    "\n",
    "y_pred = 1 * b + X1 * w1\n",
    "print(y_pred)"
   ]
  },
  {
   "cell_type": "code",
   "execution_count": 7,
   "id": "a7db14cb",
   "metadata": {},
   "outputs": [
    {
     "name": "stdout",
     "output_type": "stream",
     "text": [
      "torch.Size([])\n",
      "torch.Size([4])\n",
      "torch.Size([])\n",
      "torch.Size([4])\n",
      "100.4000015258789\n"
     ]
    }
   ],
   "source": [
    "import torch \n",
    "\n",
    "b = torch.tensor(32)\n",
    "w1 = torch.tensor(1.8)\n",
    "\n",
    "X1 = torch.tensor([10, 38, 100, 150])\n",
    "\n",
    "y_pred = 1 * b + X1 * w1\n",
    "\n",
    "print(b.shape)\n",
    "print(X1.shape)\n",
    "print(b.size())\n",
    "print(X1.size())\n",
    "print(y_pred[1].item())"
   ]
  },
  {
   "cell_type": "markdown",
   "id": "7db048ea",
   "metadata": {},
   "source": [
    "## tensor dtype"
   ]
  },
  {
   "cell_type": "code",
   "execution_count": 9,
   "id": "854de6e3",
   "metadata": {},
   "outputs": [
    {
     "name": "stdout",
     "output_type": "stream",
     "text": [
      "tensor([[ 10],\n",
      "        [ 38],\n",
      "        [100],\n",
      "        [150]])\n",
      "torch.int64\n",
      "tensor([[ 5.],\n",
      "        [19.],\n",
      "        [50.],\n",
      "        [75.]])\n",
      "torch.float32\n"
     ]
    }
   ],
   "source": [
    "\n",
    "X = torch.tensor([\n",
    "    [10], \n",
    "    [38], \n",
    "    [100], \n",
    "    [150]\n",
    "], dtype=torch.float32)\n",
    "\n",
    "X = X.type(torch.int64)\n",
    "print(X)\n",
    "print(X.dtype)\n",
    "result = X * 0.5\n",
    "print(result)\n",
    "print(result.dtype)\n"
   ]
  },
  {
   "cell_type": "markdown",
   "id": "530df964",
   "metadata": {},
   "source": [
    "## tensor matrix"
   ]
  },
  {
   "cell_type": "code",
   "execution_count": 10,
   "id": "3abb2345",
   "metadata": {},
   "outputs": [
    {
     "name": "stdout",
     "output_type": "stream",
     "text": [
      "1\n",
      "tensor([ 10,  38, 100, 150])\n"
     ]
    }
   ],
   "source": [
    "\n",
    "X = torch.tensor([\n",
    "    [10], \n",
    "    [38], \n",
    "    [100], \n",
    "    [150]\n",
    "])\n",
    "print(X.size(1))\n",
    "print(X[:, 0])"
   ]
  },
  {
   "cell_type": "code",
   "execution_count": null,
   "id": "be8666ed",
   "metadata": {},
   "outputs": [],
   "source": []
  }
 ],
 "metadata": {
  "kernelspec": {
   "display_name": "Python 3 (ipykernel)",
   "language": "python",
   "name": "python3"
  },
  "language_info": {
   "codemirror_mode": {
    "name": "ipython",
    "version": 3
   },
   "file_extension": ".py",
   "mimetype": "text/x-python",
   "name": "python",
   "nbconvert_exporter": "python",
   "pygments_lexer": "ipython3",
   "version": "3.11.5"
  }
 },
 "nbformat": 4,
 "nbformat_minor": 5
}
