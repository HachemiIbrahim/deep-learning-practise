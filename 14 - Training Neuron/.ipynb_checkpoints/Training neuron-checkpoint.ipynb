{
 "cells": [
  {
   "cell_type": "markdown",
   "id": "6ac5e464",
   "metadata": {},
   "source": [
    "## Training nueron"
   ]
  },
  {
   "cell_type": "code",
   "execution_count": 2,
   "id": "ca3ad74b",
   "metadata": {},
   "outputs": [],
   "source": [
    "import torch\n",
    "from torch import nn"
   ]
  },
  {
   "cell_type": "code",
   "execution_count": 3,
   "id": "ec2ed789",
   "metadata": {},
   "outputs": [],
   "source": [
    "\n",
    "# Input: Temperature in °C\n",
    "X1 = torch.tensor([[10]], dtype=torch.float32) \n",
    "# Actual value: Temperature °F\n",
    "y1 = torch.tensor([[50]], dtype=torch.float32) "
   ]
  },
  {
   "cell_type": "code",
   "execution_count": 4,
   "id": "e4c76bd6",
   "metadata": {},
   "outputs": [],
   "source": [
    "\n",
    "# Input: Temperature in °C\n",
    "X2 = torch.tensor([[37.78]], dtype=torch.float32) \n",
    "# Actual value: Temperature °F\n",
    "y2 = torch.tensor([[100.0]], dtype=torch.float32) \n"
   ]
  },
  {
   "cell_type": "code",
   "execution_count": 14,
   "id": "a57b20f6",
   "metadata": {},
   "outputs": [],
   "source": [
    "\n",
    "model = nn.Linear(1, 1)\n",
    "loss_fn = torch.nn.MSELoss()\n",
    "optimizer = torch.optim.SGD(model.parameters(), lr=0.001) # this use Stochastic Gradient Descent algorithm"
   ]
  },
  {
   "cell_type": "code",
   "execution_count": 15,
   "id": "91690d90",
   "metadata": {},
   "outputs": [
    {
     "name": "stdout",
     "output_type": "stream",
     "text": [
      "Parameter containing:\n",
      "tensor([-0.8697], requires_grad=True)\n"
     ]
    }
   ],
   "source": [
    "\n",
    "print(model.bias)\n"
   ]
  },
  {
   "cell_type": "code",
   "execution_count": 23,
   "id": "2abdc354",
   "metadata": {},
   "outputs": [
    {
     "name": "stdout",
     "output_type": "stream",
     "text": [
      "Parameter containing:\n",
      "tensor([-0.4219], requires_grad=True)\n",
      "y1_pred = tensor([[41.0982]], grad_fn=<AddmmBackward0>)\n"
     ]
    }
   ],
   "source": [
    "\n",
    "# Training pass\n",
    "# Clear old gradients → predict → calculate error → compute gradients → update weights → check the result.\n",
    "optimizer.zero_grad() # clear old gradient\n",
    "outputs = model(X1) # predict\n",
    "loss = loss_fn(outputs, y1) # calculate loss\n",
    "loss.backward() # calculate gradient\n",
    "optimizer.step() # update weights\n",
    "\n",
    "print(model.bias)\n",
    "\n",
    "\n",
    "y1_pred = model(X1)\n",
    "print(\"y1_pred =\", y1_pred)"
   ]
  },
  {
   "cell_type": "markdown",
   "id": "3e05abcf",
   "metadata": {},
   "source": [
    "## training neuron2"
   ]
  },
  {
   "cell_type": "code",
   "execution_count": null,
   "id": "e9e09aa6",
   "metadata": {},
   "outputs": [],
   "source": []
  }
 ],
 "metadata": {
  "kernelspec": {
   "display_name": "Python 3 (ipykernel)",
   "language": "python",
   "name": "python3"
  },
  "language_info": {
   "codemirror_mode": {
    "name": "ipython",
    "version": 3
   },
   "file_extension": ".py",
   "mimetype": "text/x-python",
   "name": "python",
   "nbconvert_exporter": "python",
   "pygments_lexer": "ipython3",
   "version": "3.11.5"
  }
 },
 "nbformat": 4,
 "nbformat_minor": 5
}
